{
 "cells": [
  {
   "cell_type": "code",
   "execution_count": 35,
   "id": "67d41bbc-b416-44c0-9ff9-be51d9985e7c",
   "metadata": {},
   "outputs": [],
   "source": [
    "import requests\n",
    "import mysql.connector\n",
    "from datetime import datetime, timedelta\n",
    "from dotenv import load_dotenv\n",
    "import os\n",
    "import ollama\n",
    "from typing import List, Dict, Any, Annotated, Literal\n",
    "from langchain_core.tools import tool\n",
    "from typing import TypedDict, Sequence , Union\n",
    "from langchain_core.messages import SystemMessage , BaseMessage , ToolMessage , HumanMessage\n",
    "from langgraph.graph import StateGraph, END\n",
    "from langgraph.graph.message import add_messages\n",
    "from langgraph.prebuilt import ToolNode\n",
    "from langchain_ollama import ChatOllama\n",
    "import json\n",
    "import re\n",
    "from datetime import datetime, timedelta\n",
    "from langchain_groq import ChatGroq"
   ]
  },
  {
   "cell_type": "code",
   "execution_count": 26,
   "id": "80731023-4593-480f-9f03-2c822a9ba825",
   "metadata": {},
   "outputs": [],
   "source": [
    "load_dotenv()\n",
    "\n",
    "DB_HOST = os.getenv(\"host\")\n",
    "DB_USER = os.getenv(\"user\")\n",
    "DB_PASS = os.getenv(\"password\")\n",
    "DB_PORT = os.getenv(\"port\")\n",
    "DB_NAME = os.getenv(\"DB_NAME\")\n",
    "groq_api = os.getenv(\"groq\")"
   ]
  },
  {
   "cell_type": "code",
   "execution_count": 4,
   "id": "c91a4ec5-1cf6-4ea6-be12-e29f8ffc50e5",
   "metadata": {},
   "outputs": [],
   "source": [
    "def fetch_documents(days=7):\n",
    "    start_date = (datetime.now() - timedelta(days=days)).strftime('%Y-%m-%d')\n",
    "    url = f\"https://www.federalregister.gov/api/v1/documents.json?conditions[publication_date][gte]={start_date}&per_page=100\"\n",
    "    response = requests.get(url)\n",
    "    return response.json()['results']"
   ]
  },
  {
   "cell_type": "code",
   "execution_count": 5,
   "id": "3e9d9200-c40d-437c-b0fb-57c12d525d20",
   "metadata": {},
   "outputs": [
    {
     "name": "stdout",
     "output_type": "stream",
     "text": [
      "Fetched 100 documents\n"
     ]
    }
   ],
   "source": [
    "documents = fetch_documents(7)\n",
    "print(f\"Fetched {len(documents)} documents\")"
   ]
  },
  {
   "cell_type": "code",
   "execution_count": 6,
   "id": "6337db45-ce30-4304-9f5f-4e0765675540",
   "metadata": {},
   "outputs": [],
   "source": [
    "cnx = mysql.connector.connect(\n",
    "    host=DB_HOST,\n",
    "    port=3306,\n",
    "    user=DB_USER,\n",
    "    password=DB_PASS)"
   ]
  },
  {
   "cell_type": "code",
   "execution_count": 7,
   "id": "e6459393-213e-461a-a652-0c9ac718eaa3",
   "metadata": {},
   "outputs": [],
   "source": [
    "cursor = cnx.cursor()\n",
    "cursor.execute(f\"CREATE DATABASE IF NOT EXISTS {DB_NAME}\")\n",
    "cursor.execute(f\"USE {DB_NAME}\")"
   ]
  },
  {
   "cell_type": "code",
   "execution_count": 8,
   "id": "1872cde6-1b46-49f1-874f-e8ab25bdd6dc",
   "metadata": {},
   "outputs": [],
   "source": [
    "cursor.execute(\"\"\"\n",
    "CREATE TABLE IF NOT EXISTS documents (\n",
    "    id VARCHAR(50) PRIMARY KEY,\n",
    "    title TEXT,\n",
    "    publication_date DATE,\n",
    "    document_type VARCHAR(100),\n",
    "    agencies TEXT,\n",
    "    url VARCHAR(255),\n",
    "    abstract TEXT,\n",
    "    full_text LONGTEXT,\n",
    "    last_updated TIMESTAMP DEFAULT CURRENT_TIMESTAMP\n",
    ")\n",
    "\"\"\")"
   ]
  },
  {
   "cell_type": "code",
   "execution_count": 9,
   "id": "270927b6-8d2f-4f68-b3d4-4f1b34f1d630",
   "metadata": {},
   "outputs": [],
   "source": [
    "cursor.close()\n",
    "cnx.close()"
   ]
  },
  {
   "cell_type": "code",
   "execution_count": 10,
   "id": "68468183-99f7-4e07-9413-f92dc12f5fc2",
   "metadata": {},
   "outputs": [],
   "source": [
    "def save_to_db(docs):\n",
    "    conn = mysql.connector.connect(\n",
    "        host=DB_HOST,\n",
    "        user=DB_USER,\n",
    "        password=DB_PASS,\n",
    "        database=DB_NAME\n",
    "    )\n",
    "    cursor = conn.cursor()\n",
    "    \n",
    "    for doc in docs:\n",
    "        agencies = \", \".join([ag['name'] for ag in doc.get('agencies', [])])\n",
    "        \n",
    "        full_text = doc.get('full_text', '')  \n",
    "        abstract = doc.get('abstract', '')   \n",
    "        \n",
    "        cursor.execute(\"\"\"\n",
    "            INSERT INTO documents \n",
    "            (id, title, publication_date, document_type, agencies, url, abstract, full_text)\n",
    "            VALUES (%s, %s, %s, %s, %s, %s, %s, %s)\n",
    "            ON DUPLICATE KEY UPDATE\n",
    "            title = VALUES(title),\n",
    "            full_text = VALUES(full_text),\n",
    "            last_updated = CURRENT_TIMESTAMP\n",
    "        \"\"\", (\n",
    "            doc['document_number'],\n",
    "            doc['title'],\n",
    "            doc['publication_date'],\n",
    "            doc['type'],\n",
    "            agencies,\n",
    "            doc['html_url'],\n",
    "            abstract,\n",
    "            full_text\n",
    "        ))\n",
    "    \n",
    "    conn.commit()\n",
    "    cursor.close()\n",
    "    conn.close()\n",
    "    print(f\"Saved {len(docs)} documents to DB\")"
   ]
  },
  {
   "cell_type": "code",
   "execution_count": 11,
   "id": "890e7fce-a98b-419d-a91a-db9f050f8cd7",
   "metadata": {},
   "outputs": [
    {
     "name": "stdout",
     "output_type": "stream",
     "text": [
      "Saved 100 documents to DB\n"
     ]
    }
   ],
   "source": [
    "save_to_db(documents)"
   ]
  },
  {
   "cell_type": "code",
   "execution_count": 12,
   "id": "5200ad2d-8ce7-4003-893f-a1e95b529ea6",
   "metadata": {},
   "outputs": [],
   "source": [
    "conn = mysql.connector.connect(\n",
    "    host=DB_HOST,\n",
    "    user=DB_USER,\n",
    "    password=DB_PASS,\n",
    "    database=DB_NAME\n",
    ")"
   ]
  },
  {
   "cell_type": "code",
   "execution_count": 14,
   "id": "ef2cb4a6-f169-4ef8-997c-52a36930a838",
   "metadata": {},
   "outputs": [],
   "source": [
    "cursor = conn.cursor()\n",
    "cursor.execute(\"\"\"\n",
    "ALTER TABLE documents \n",
    "ADD FULLTEXT INDEX t_search (title, abstract, full_text)\n",
    "\"\"\")"
   ]
  },
  {
   "cell_type": "code",
   "execution_count": 15,
   "id": "1e5f70e0-6666-4448-b1fa-8cc85013bf26",
   "metadata": {},
   "outputs": [
    {
     "name": "stdout",
     "output_type": "stream",
     "text": [
      "Created full-text search index\n"
     ]
    }
   ],
   "source": [
    "cursor.close()\n",
    "conn.close()\n",
    "print(\"Created full-text search index\")"
   ]
  },
  {
   "cell_type": "code",
   "execution_count": 17,
   "id": "d23117e2-fca0-4232-b8d9-8ef0aaae3d7c",
   "metadata": {},
   "outputs": [],
   "source": [
    "def search_db(keywords, days=7):\n",
    "    conn = mysql.connector.connect(\n",
    "        host=DB_HOST,\n",
    "        user=DB_USER,\n",
    "        password=DB_PASS,\n",
    "        database=DB_NAME\n",
    "    )\n",
    "    cursor = conn.cursor(dictionary=True)\n",
    "    \n",
    "    query = f\"\"\"\n",
    "        SELECT title, url, abstract \n",
    "        FROM documents \n",
    "        WHERE MATCH(title, abstract, full_text) AGAINST (%s IN NATURAL LANGUAGE MODE)\n",
    "        AND publication_date >= DATE_SUB(CURDATE(), INTERVAL {days} DAY)\n",
    "        LIMIT 5\n",
    "    \"\"\"\n",
    "    \n",
    "    cursor.execute(query, (keywords,))\n",
    "    results = cursor.fetchall()\n",
    "    \n",
    "    cursor.close()\n",
    "    conn.close()\n",
    "    return results"
   ]
  },
  {
   "cell_type": "code",
   "execution_count": 64,
   "id": "b9ba619d-7a2f-44be-b681-22047dae2eec",
   "metadata": {},
   "outputs": [
    {
     "name": "stdout",
     "output_type": "stream",
     "text": [
      "\n",
      "Result 1: Submission for Review: 3206-0042, Notice of Change in Student's Status, RI 25-15\n",
      "URL: https://www.federalregister.gov/documents/2025/06/02/2025-09976/submission-for-review-3206-0042-notice-of-change-in-students-status-ri-25-15\n",
      "Abstract: Office of Personnel Management (OPM) offers the general public and other federal agencies the opportunity to comment on an expiring information collec...\n",
      "\n",
      "Result 2: Self-Regulatory Organizations; The Options Clearing Corporation; Notice of Filing of Proposed Rule Change by the Options Clearing Corporation Concerning Updates to Its Portfolio Revaluation Process for Purposes of Determining Intraday Margin Calls in Order To Better Manage OCC's Intraday Risk Exposure to Its Clearing Members\n",
      "URL: https://www.federalregister.gov/documents/2025/06/02/2025-09847/self-regulatory-organizations-the-options-clearing-corporation-notice-of-filing-of-proposed-rule\n",
      "Abstract: No abstract available...\n",
      "\n",
      "Result 3: Self-Regulatory Organizations; NYSE American LLC; Notice of Filing of a Proposed Rule Change To Amend the Connectivity Fee Schedule\n",
      "URL: https://www.federalregister.gov/documents/2025/06/02/2025-09849/self-regulatory-organizations-nyse-american-llc-notice-of-filing-of-a-proposed-rule-change-to-amend\n",
      "Abstract: No abstract available...\n",
      "\n",
      "Result 4: Self-Regulatory Organizations; NYSE Arca, Inc.; Notice of Filing of a Proposed Rule Change To Amend the Connectivity Fee Schedule\n",
      "URL: https://www.federalregister.gov/documents/2025/06/02/2025-09850/self-regulatory-organizations-nyse-arca-inc-notice-of-filing-of-a-proposed-rule-change-to-amend-the\n",
      "Abstract: No abstract available...\n",
      "\n",
      "Result 5: Self-Regulatory Organizations; NYSE National, Inc.; Notice of Filing of a Proposed Rule Change To Amend the Connectivity Fee Schedule\n",
      "URL: https://www.federalregister.gov/documents/2025/06/02/2025-09851/self-regulatory-organizations-nyse-national-inc-notice-of-filing-of-a-proposed-rule-change-to-amend\n",
      "Abstract: No abstract available...\n"
     ]
    }
   ],
   "source": [
    "results = search_db(\"climate change\")\n",
    "for idx, doc in enumerate(results, 1):\n",
    "    print(f\"\\nResult {idx}: {doc['title']}\")\n",
    "    print(f\"URL: {doc['url']}\")\n",
    "    print(f\"Abstract: {(doc['abstract'] or 'No abstract available')[:150]}...\")  "
   ]
  },
  {
   "cell_type": "code",
   "execution_count": 19,
   "id": "867b076b-ee3e-498c-a397-8d0c4f9851bb",
   "metadata": {},
   "outputs": [],
   "source": [
    "def daily_update():\n",
    "    print(f\"Starting daily update at {datetime.now()}\")\n",
    "    new_docs = fetch_documents(1)\n",
    "    save_to_db(new_docs)\n",
    "    print(f\"Update completed. Added {len(new_docs)} new documents\")"
   ]
  },
  {
   "cell_type": "code",
   "execution_count": 20,
   "id": "0f83b3ee-0b3f-43f3-9354-8fdab2e7b395",
   "metadata": {},
   "outputs": [],
   "source": [
    "def query_llm(question, context):\n",
    "    prompt = f\"\"\"\n",
    "    Use the following context to answer the question:\n",
    "    {context}\n",
    "    \n",
    "    Question: {question}\n",
    "    \"\"\"\n",
    "    \n",
    "    response = ollama.chat(\n",
    "        model='llama3.2',\n",
    "        messages=[{'role': 'user', 'content': prompt}]\n",
    "    )\n",
    "    return response['message']['content']"
   ]
  },
  {
   "cell_type": "code",
   "execution_count": 21,
   "id": "4b06f715-d17d-4876-9daf-de25793d1c88",
   "metadata": {},
   "outputs": [
    {
     "name": "stdout",
     "output_type": "stream",
     "text": [
      "Based on the context provided, OPM stands for Office of Personnel Management. It appears to be an organization within the US government that offers opportunities for public comment and review regarding certain regulations and information collections.\n"
     ]
    }
   ],
   "source": [
    "search_results = search_db(\"climate change\")\n",
    "context = \"\\n\".join([f\"Title: {doc['title']}\\nSummary: {doc['abstract']}\" for doc in search_results])\n",
    "answer = query_llm(\"what is opm\", context)\n",
    "print(answer)"
   ]
  },
  {
   "cell_type": "code",
   "execution_count": null,
   "id": "8329d1da-d1cd-41f3-bf6e-86e05d895862",
   "metadata": {},
   "outputs": [],
   "source": []
  },
  {
   "cell_type": "markdown",
   "id": "4d5de037-3876-4ce2-add5-39cc111343b6",
   "metadata": {},
   "source": [
    "## Now Making a Agent"
   ]
  },
  {
   "cell_type": "code",
   "execution_count": null,
   "id": "9d6a5229-ebbe-433d-b355-a0a003490667",
   "metadata": {},
   "outputs": [],
   "source": []
  },
  {
   "cell_type": "code",
   "execution_count": 36,
   "id": "810b5bca-fb0a-4fe1-8704-051a62f30ef4",
   "metadata": {},
   "outputs": [],
   "source": [
    "class AgentState(TypedDict):\n",
    "    messages: Annotated[Sequence[BaseMessage] , add_messages]"
   ]
  },
  {
   "cell_type": "code",
   "execution_count": 28,
   "id": "801b63a8-e33b-4560-bb48-11840a8b77b1",
   "metadata": {},
   "outputs": [],
   "source": [
    "llm = ChatGroq(api_key=groq_api , model=\"llama3-70b-8192\" , temperature=0.3)"
   ]
  },
  {
   "cell_type": "code",
   "execution_count": 29,
   "id": "439a3723-6372-4b59-a3d4-b53c456d9f95",
   "metadata": {},
   "outputs": [
    {
     "data": {
      "text/plain": [
       "AIMessage(content='Hii! How are you today?', additional_kwargs={}, response_metadata={'token_usage': {'completion_tokens': 9, 'prompt_tokens': 12, 'total_tokens': 21, 'completion_time': 0.028927056, 'prompt_time': 0.000117018, 'queue_time': 0.049826694, 'total_time': 0.029044074}, 'model_name': 'llama3-70b-8192', 'system_fingerprint': 'fp_dd4ae1c591', 'finish_reason': 'stop', 'logprobs': None}, id='run--4c71d801-ed2a-444b-b817-c3cffeb0943d-0', usage_metadata={'input_tokens': 12, 'output_tokens': 9, 'total_tokens': 21})"
      ]
     },
     "execution_count": 29,
     "metadata": {},
     "output_type": "execute_result"
    }
   ],
   "source": [
    "llm.invoke(\"hii\")"
   ]
  },
  {
   "cell_type": "code",
   "execution_count": 50,
   "id": "a698f1d9-a4a9-4499-a86d-0a400e878d9a",
   "metadata": {},
   "outputs": [],
   "source": [
    "def get_llm_answer1(state: AgentState)-> str:\n",
    "    search_results = search_db(search_query)\n",
    "\n",
    "    context = \"\\n\".join([f\"Title: {doc['title']}\\nSummary: {doc['abstract']}\" for doc in search_results])\n",
    "\n",
    "    prompt = f\"\"\"\n",
    "    Use the following context to answer the question:\n",
    "    {context}\n",
    "\n",
    "    Question: {query}\n",
    "    \"\"\"\n",
    "    response = ollama.chat(\n",
    "        model='llama3.2',\n",
    "        messages=[{'role': 'user', 'content': prompt}]\n",
    "    )\n",
    "    \n",
    "    return response['message']['content']"
   ]
  },
  {
   "cell_type": "code",
   "execution_count": null,
   "id": "6e67342b-01d5-43c8-b353-cd15ab8d03af",
   "metadata": {},
   "outputs": [],
   "source": []
  },
  {
   "cell_type": "code",
   "execution_count": 42,
   "id": "70210076-309e-46f5-8e8c-050c59647e92",
   "metadata": {},
   "outputs": [],
   "source": [
    "def search_db1(state: AgentState)-> str:\n",
    "    conn = mysql.connector.connect(\n",
    "        host=DB_HOST,\n",
    "        user=DB_USER,\n",
    "        password=DB_PASS,\n",
    "        database=DB_NAME\n",
    "    )\n",
    "    cursor = conn.cursor(dictionary=True)\n",
    "    \n",
    "    query = f\"\"\"\n",
    "        SELECT title, url, abstract \n",
    "        FROM documents \n",
    "        WHERE MATCH(title, abstract, full_text) AGAINST (%s IN NATURAL LANGUAGE MODE)\n",
    "        AND publication_date >= DATE_SUB(CURDATE(), INTERVAL {days} DAY)\n",
    "        LIMIT 5\n",
    "    \"\"\"\n",
    "    \n",
    "    cursor.execute(query, (keywords,))\n",
    "    results = cursor.fetchall()\n",
    "    \n",
    "    cursor.close()\n",
    "    conn.close()\n",
    "    return results"
   ]
  },
  {
   "cell_type": "code",
   "execution_count": 43,
   "id": "4b085460-0ab7-49e3-9903-1275e8f36e5d",
   "metadata": {},
   "outputs": [],
   "source": [
    "def get_query_llm(state: AgentState)-> str:\n",
    "    prompt = f\"\"\"\n",
    "    Use the following context to answer the question:\n",
    "    {context}\n",
    "    \n",
    "    Question: {question}\n",
    "    \"\"\"\n",
    "    \n",
    "    response = ollama.chat(\n",
    "        model='llama3.2',\n",
    "        messages=[{'role': 'user', 'content': prompt}]\n",
    "    )\n",
    "    return response['message']['content']"
   ]
  },
  {
   "cell_type": "code",
   "execution_count": null,
   "id": "234b175f-7e0c-45ee-8cf0-20e89228a1ef",
   "metadata": {},
   "outputs": [],
   "source": []
  },
  {
   "cell_type": "code",
   "execution_count": 37,
   "id": "c1ce2ab0-96a0-4970-a427-5653e6a8599c",
   "metadata": {},
   "outputs": [],
   "source": [
    "def model_call(state:AgentState)-> AgentState:\n",
    "    system_prompt = SystemMessage(content=\n",
    "        \"\"\" You are a helpful Federal Register AI assistant. Answer the user's question using the provided context.\n",
    "    \n",
    "    User Question: {user_question}\n",
    "    Context: {context_data}\n",
    "    \n",
    "    Provide a comprehensive, accurate answer. If the context doesn't contain relevant information, \n",
    "    say so clearly and provide general knowledge if appropriate.\n",
    "\n",
    "        \n",
    "        \"\"\"\n",
    "    )\n",
    "    response = llm.invoke([system_prompt] + state['messages'])\n",
    "    return {\"messages\": [response]}"
   ]
  },
  {
   "cell_type": "code",
   "execution_count": 38,
   "id": "8e886a51-60da-4387-a1d2-481c6c5ed3c3",
   "metadata": {},
   "outputs": [],
   "source": [
    "def should_continue(state: AgentState) -> str:\n",
    "    messages = state['messages']\n",
    "    last_message = messages[-1]\n",
    "    if not hasattr(last_message, 'tool_calls') or not last_message.tool_calls:\n",
    "        return \"end\"\n",
    "    else:\n",
    "        return \"continue\""
   ]
  },
  {
   "cell_type": "code",
   "execution_count": 39,
   "id": "132f0e84-3d87-494e-85f1-4caf73a25350",
   "metadata": {},
   "outputs": [],
   "source": [
    "graph = StateGraph(AgentState)"
   ]
  },
  {
   "cell_type": "code",
   "execution_count": 46,
   "id": "7edc6d69-10e1-49c6-8c5e-42c161f19360",
   "metadata": {},
   "outputs": [],
   "source": [
    "graph.add_node(\"our_agent\" , model_call)\n",
    "graph.add_node(\"rag\" , get_query_llm)\n",
    "graph.add_node(\"search\" , search_db1)\n",
    "graph.add_node(\"answer\" , get_llm_answer1)\n",
    "\n",
    "graph.set_entry_point(\"our_agent\")\n",
    "graph.add_conditional_edges(\n",
    "    \"our_agent\",\n",
    "    should_continue,\n",
    "    {\n",
    "        \"continue\": \"rag\",\n",
    "        \"end\": END\n",
    "    }\n",
    ")\n",
    "\n",
    "graph.add_edge(\"rag\", \"search\")\n",
    "graph.add_edge(\"search\", \"answer\")\n",
    "graph.add_edge(\"answer\", END)\n",
    "\n",
    "app = graph.compile()"
   ]
  },
  {
   "cell_type": "code",
   "execution_count": 47,
   "id": "0a3f7072-8733-41dc-b17b-e09699d281c9",
   "metadata": {},
   "outputs": [
    {
     "data": {
      "image/png": "[encoded data removed]",
      "text/plain": [
       "<langgraph.graph.state.CompiledStateGraph object at 0x000002A3162F5400>"
      ]
     },
     "execution_count": 47,
     "metadata": {},
     "output_type": "execute_result"
    }
   ],
   "source": [
    "app"
   ]
  },
  {
   "cell_type": "code",
   "execution_count": 67,
   "id": "4f2f0532-9d21-474e-b81c-cf2b24ce8e2a",
   "metadata": {},
   "outputs": [
    {
     "name": "stdout",
     "output_type": "stream",
     "text": [
      "Hii I am Agent, I am here to help you. how i help you\n"
     ]
    },
    {
     "name": "stdin",
     "output_type": "stream",
     "text": [
      "You:  hii\n"
     ]
    },
    {
     "name": "stdout",
     "output_type": "stream",
     "text": [
      "Agent: Hi! I'm happy to assist you with any questions or topics related to the Federal Register. Please feel free to ask me anything. If you need help getting started, I can provide general information about the Federal Register or suggest some topics we could explore together. Just let me know!\n"
     ]
    },
    {
     "name": "stdin",
     "output_type": "stream",
     "text": [
      "You:  show me documents of 28-05-2023\n"
     ]
    },
    {
     "name": "stdout",
     "output_type": "stream",
     "text": [
      "Agent: I'd be happy to help!\n",
      "\n",
      "Since I'm a Federal Register AI assistant, I can provide you with the documents published on May 28, 2023. Please note that the Federal Register is a daily journal of the United States government, so the documents I provide will be based on the official publication date.\n",
      "\n",
      "Here are the documents published on May 28, 2023:\n",
      "\n",
      "**Public Inspection Documents:**\n",
      "\n",
      "1. **Agency:** Department of State\n",
      "**Document Title:** 30-Day Notice of Proposed Information Collection: Application for a Passport\n",
      "**Document ID:** DOS-2023-0014\n",
      "2. **Agency:** Environmental Protection Agency (EPA)\n",
      "**Document Title:**  Pesticide Registration Review; Proposed Interim Decisions for Several Pesticides\n",
      "**Document ID:** EPA-HQ-OPP-2023-0123\n",
      "\n",
      "**Federal Register Documents:**\n",
      "\n",
      "1. **Agency:** Federal Reserve System\n",
      "**Document Title:**  Regulation D; Reserve Requirements of Depository Institutions\n",
      "**Document ID:** FR 2023-10314\n",
      "2. **Agency:** Department of Veterans Affairs\n",
      "**Document Title:**  VA Acquisition Regulation: Contracting by Negotiation\n",
      "**Document ID:** FR 2023-10315\n",
      "\n",
      "Please note that these documents are subject to change and might be updated or removed. You can always check the official Federal Register website for the most up-to-date information.\n",
      "\n",
      "If you'd like to explore more documents or have specific questions, feel free to ask!\n"
     ]
    },
    {
     "name": "stdin",
     "output_type": "stream",
     "text": [
      "You:  what is OPM?\n"
     ]
    },
    {
     "name": "stdout",
     "output_type": "stream",
     "text": [
      "Agent: OPM stands for the Office of Personnel Management, which is an independent agency of the United States federal government. OPM is responsible for managing the civil service of the federal government, which includes more than 2.1 million employees in the executive branch.\n",
      "\n",
      "The main mission of OPM is to recruit, retain, and honor a world-class workforce to serve the American people. OPM's responsibilities include:\n",
      "\n",
      "1. **Human Resources Management:** OPM provides guidance and oversight on personnel policies, including hiring, pay, benefits, and performance management.\n",
      "2. **Retirement Services:** OPM administers the Federal Employees Retirement System (FERS) and the Civil Service Retirement System (CSRS).\n",
      "3. **Health Insurance:** OPM oversees the Federal Employees Health Benefits Program (FEHBP), which provides health insurance to federal employees, retirees, and their families.\n",
      "4. **Employee Relations:** OPM provides guidance on labor-management relations, including collective bargaining and dispute resolution.\n",
      "5. **Leadership Development:** OPM offers training and development programs to help federal employees advance in their careers and become more effective leaders.\n",
      "\n",
      "Some of the key documents and publications issued by OPM include:\n",
      "\n",
      "* The Federal Employees Almanac\n",
      "* The Handbook of Occupational Groups and Families\n",
      "* The Guide to the Senior Executive Service (SES)\n",
      "* The Federal Employees Health Benefits (FEHB) Program brochure\n",
      "\n",
      "OPM plays a critical role in supporting the federal workforce and helping agencies to attract, retain, and efficiently.\n",
      "\n",
      "Do you have any specific questions about OPM or its functions?\n"
     ]
    },
    {
     "name": "stdin",
     "output_type": "stream",
     "text": [
      "You:  what is my name\n"
     ]
    },
    {
     "name": "stdout",
     "output_type": "stream",
     "text": [
      "Agent: I apologize, but I don't have any context or information about your name. I'm a Federal Register AI assistant, and our conversation just started. If you'd like to share your name with me, I'd be happy to know it!\n"
     ]
    },
    {
     "name": "stdin",
     "output_type": "stream",
     "text": [
      "You:  my privious question\n"
     ]
    },
    {
     "name": "stdout",
     "output_type": "stream",
     "text": [
      "Agent: Your previous question was \"what is OPM?\"\n"
     ]
    },
    {
     "name": "stdin",
     "output_type": "stream",
     "text": [
      "You:  exit\n"
     ]
    },
    {
     "name": "stdout",
     "output_type": "stream",
     "text": [
      "Agent: bye\n"
     ]
    }
   ],
   "source": [
    "conversation_memory = {\"messages\": []}\n",
    "print(\"Hii I am Agent, I am here to help you. how i help you\")\n",
    "    \n",
    "while True:\n",
    "    user_input = input(\"You: \")\n",
    "        \n",
    "    if user_input.lower() == \"exit\":\n",
    "        print(\"Agent: bye\")\n",
    "        break\n",
    "\n",
    "    conversation_memory[\"messages\"].append(HumanMessage(content=user_input))\n",
    "\n",
    "    try:\n",
    "        result = app.invoke(conversation_memory)\n",
    "\n",
    "        conversation_memory = result\n",
    "            \n",
    "        last_message = conversation_memory[\"messages\"][-1]\n",
    "            \n",
    "        if hasattr(last_message, 'content') and last_message.content:\n",
    "            print(\"Agent:\", last_message.content)\n",
    "        else:\n",
    "            print(\"Agent: I'm processing your request...\")\n",
    "                \n",
    "    except Exception as e:\n",
    "        print(f\"Agent: Sorry, I encountered an error: {str(e)}\")\n",
    "        print(\"Agent: Please try again with a different query.\")"
   ]
  },
  {
   "cell_type": "code",
   "execution_count": null,
   "id": "a63e985f-5d12-4ea0-b21c-9737ebde1b47",
   "metadata": {},
   "outputs": [],
   "source": []
  },
  {
   "cell_type": "code",
   "execution_count": null,
   "id": "b0955868-21e0-491c-a56c-cb9e296ef2ec",
   "metadata": {},
   "outputs": [],
   "source": []
  }
 ],
 "metadata": {
  "kernelspec": {
   "display_name": "Python (new_env)",
   "language": "python",
   "name": "mayaenv"
  },
  "language_info": {
   "codemirror_mode": {
    "name": "ipython",
    "version": 3
   },
   "file_extension": ".py",
   "mimetype": "text/x-python",
   "name": "python",
   "nbconvert_exporter": "python",
   "pygments_lexer": "ipython3",
   "version": "3.9.21"
  }
 },
 "nbformat": 4,
 "nbformat_minor": 5
}
